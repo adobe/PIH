{
 "cells": [
  {
   "cell_type": "code",
   "execution_count": 2,
   "id": "d4a9f04e",
   "metadata": {},
   "outputs": [
    {
     "name": "stdout",
     "output_type": "stream",
     "text": [
      "The autoreload extension is already loaded. To reload it, use:\n",
      "  %reload_ext autoreload\n"
     ]
    }
   ],
   "source": [
    "%matplotlib widget\n",
    "import torch\n",
    "import numpy as np\n",
    "import matplotlib.pyplot\n",
    "import torchvision.transforms as T\n",
    "import torchvision.transforms.functional as F\n",
    "import glob\n",
    "import os\n",
    "import cv2\n",
    "import PIL \n",
    "from tqdm import tqdm\n",
    "from PIL import Image\n",
    "import joblib\n",
    "%load_ext autoreload\n",
    "%autoreload 2"
   ]
  },
  {
   "cell_type": "code",
   "execution_count": 3,
   "id": "0fc253ae",
   "metadata": {},
   "outputs": [
    {
     "name": "stderr",
     "output_type": "stream",
     "text": [
      "100%|██████████| 217/217 [00:00<00:00, 257.20it/s]"
     ]
    },
    {
     "name": "stdout",
     "output_type": "stream",
     "text": [
      "Average PSNR results : 27.623805 db\n",
      "Average PSNR original : 26.209930 db\n"
     ]
    },
    {
     "name": "stderr",
     "output_type": "stream",
     "text": [
      "\n"
     ]
    }
   ],
   "source": [
    "images_dir = glob.glob(\"/home/kewang/adobe-project/Transformer/HarmonyTransformer/results/HT_2H9L_allihd/test_latest/images/*comp.jpg\")\n",
    "\n",
    "psnr_all_results = []\n",
    "psnr_all_original = []\n",
    "for name in tqdm(images_dir):\n",
    "    img_original = cv2.imread(name)\n",
    "    # img_original = cv2.resize(img_harmonized,(256,256))\n",
    "    \n",
    "    img_gt = cv2.imread(name.replace(\"comp\",\"real\"))\n",
    "    # img_gt = cv2.resize(img_gt,(256,256))\n",
    "    img_harmonized = cv2.imread(name.replace(\"comp\",\"harmonized\"))\n",
    "    # img_harmonized = cv2.resize(img_harmonized,(256,256))\n",
    "    \n",
    "    psnr_all_results.append(cv2.PSNR(img_harmonized,img_gt,img_gt.max()))\n",
    "    psnr_all_original.append(cv2.PSNR(img_original,img_gt,img_gt.max()))\n",
    "\n",
    "print(\"Average PSNR results : %f db\" %(np.array(psnr_all_results).mean()))\n",
    "print(\"Average PSNR original : %f db\" %(np.array(psnr_all_original).mean()))\n",
    "    # break\n",
    "    "
   ]
  },
  {
   "cell_type": "code",
   "execution_count": 11,
   "id": "2af92c55",
   "metadata": {},
   "outputs": [
    {
     "name": "stderr",
     "output_type": "stream",
     "text": [
      "100%|██████████| 217/217 [00:02<00:00, 105.43it/s]"
     ]
    },
    {
     "name": "stdout",
     "output_type": "stream",
     "text": [
      "Average PSNR results : 26.784741 db\n",
      "Average PSNR original : 26.102470 db\n"
     ]
    },
    {
     "name": "stderr",
     "output_type": "stream",
     "text": [
      "\n"
     ]
    }
   ],
   "source": [
    "images_dir = glob.glob(\"/home/kewang/website_michael/results/exp_20220731_a100_2_unetD_3_no_skip_resnet_maskinput_pl32_gan_loss_mask_lowdim_L105_reconwithgan_4_brush_onlyup_batch_size_8_lr_1e-5_iharmony_compositegan_D_3_ratio_1_noskip_PL32_reconratio_0.5_reconweight_4_device_0_cp21_realhm/results_testing/original/*.jpg\")\n",
    "psnr_all_results = []\n",
    "psnr_all_original = []\n",
    "for name in tqdm(images_dir):\n",
    "    img_original = cv2.imread(name.replace(\"original\",\"original\"))\n",
    "    img_gt = cv2.imread(name.replace(\"original\",\"real\"))\n",
    "    img_harmonized = cv2.imread(name.replace(\"original\",\"intermediate\"))\n",
    "    img_original = cv2.resize(img_original,(256,256))\n",
    "    img_gt = cv2.resize(img_gt,(256,256))\n",
    "    img_harmonized = cv2.resize(img_harmonized,(256,256))\n",
    "    \n",
    "    psnr_all_results.append(cv2.PSNR(img_harmonized,img_gt,img_gt.max()))\n",
    "    psnr_all_original.append(cv2.PSNR(img_original,img_gt,img_gt.max()))\n",
    "\n",
    "print(\"Average PSNR results : %f db\" %(np.array(psnr_all_results).mean()))\n",
    "print(\"Average PSNR original : %f db\" %(np.array(psnr_all_original).mean()))"
   ]
  }
 ],
 "metadata": {
  "interpreter": {
   "hash": "9f93401edc467ad8a33b2f5f4639e1b59d77d392669363325cddaf6661b009c9"
  },
  "kernelspec": {
   "display_name": "Python 3",
   "language": "python",
   "name": "python3"
  },
  "language_info": {
   "codemirror_mode": {
    "name": "ipython",
    "version": 3
   },
   "file_extension": ".py",
   "mimetype": "text/x-python",
   "name": "python",
   "nbconvert_exporter": "python",
   "pygments_lexer": "ipython3",
   "version": "3.8.13"
  }
 },
 "nbformat": 4,
 "nbformat_minor": 5
}
